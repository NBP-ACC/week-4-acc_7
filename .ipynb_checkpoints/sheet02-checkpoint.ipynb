{
 "cells": [
  {
   "cell_type": "markdown",
   "metadata": {},
   "source": [
    "Osnabrück University - A&C: Computational Cognition (Summer Term 2019)"
   ]
  },
  {
   "cell_type": "markdown",
   "metadata": {},
   "source": [
    "# Exercise Sheet 02: Basic statistics"
   ]
  },
  {
   "cell_type": "markdown",
   "metadata": {},
   "source": [
    "## Introduction\n",
    "\n",
    "This week's sheet should be solved and handed in at 14:00 at **Tuesday, April 30, 2019**. If you need help (and Google and other resources were not enough), feel free to contact your tutors. Please push your results to your Github group folder.\n",
    "\n",
    "In this exercise sheet you will have to work with ```pandas``` and ```seaborn```. ```pandas``` is one of the most preferred and widely used tools in data processing. What’s cool about ```pandas``` is that it takes data (like a CSV or TSV file, or a SQL database) and creates a Python object with rows and columns called 'data frame' that looks very similar to tables in a statistical software (think Excel or SPSS for example). ```pandas``` makes data processing a lot easier in comparison to working with lists and/or dictionaries through for-loops or list comprehension.  \n",
    "```seaborn``` is a library for making plots. It is based on ```matplotlib``` but offers more functions speicialized for statistical visualization. Also most people agree that ```seaborn``` looks more legit.\n",
    "\n",
    "Don't forget that you we will also give **2 points** for nice coding style!"
   ]
  },
  {
   "cell_type": "markdown",
   "metadata": {},
   "source": [
    "## Assignment 0: Peer review for sheet 01 [3 pts]"
   ]
  },
  {
   "cell_type": "markdown",
   "metadata": {},
   "source": [
    "Beginning this week you will have to make a peer review of the other groups' solutions. Each group reviews the solutions of two other groups and give points according to the given point distribution considering the correctness of the solution. For this reviews the tutors will give you up to 3 points each week.\n",
    "\n",
    "| * |Group 1|Group 2|Group 3|Group 4|Group 5|Group 6|Group 7|Group 8|Group 9|Group 10|Group 11|\n",
    "| ------- | ----- | ----- | ----- | ----- | ----- | ----- | ----- | ----- | ----- | ------ | ------ |\n",
    "| check solutions of group: | 10, 7 | 4, 9  | 1, 4  | 11, 1 | 8, 11 | 5, 3  | 9, 10 | 6, 5  | 3, 2  | 2, 8   | 7, 6   |"
   ]
  },
  {
   "cell_type": "markdown",
   "metadata": {},
   "source": [
    "You should open an issue in repositories of groups you have to check. The title of the issue should be your group name (e.g.\"Group 1\"). Comments on what was good and bad, how much points they get etc.  \n",
    "Refer to https://guides.github.com/features/issues/ to learn more about issues."
   ]
  },
  {
   "cell_type": "markdown",
   "metadata": {},
   "source": [
    "## Assignment 1: Dataframes [4 pts]"
   ]
  },
  {
   "cell_type": "code",
   "execution_count": 2,
   "metadata": {},
   "outputs": [],
   "source": [
    "# import libraries\n",
    "import os\n",
    "import numpy as np\n",
    "import pandas as pd\n",
    "import matplotlib.pyplot as plt\n",
    "import seaborn as sns\n",
    "sns.set()"
   ]
  },
  {
   "cell_type": "markdown",
   "metadata": {},
   "source": [
    "```matplotlib``` and ```seaborn``` should already be installed in your environment. If not please run:\n",
    "```sh\n",
    "pip install seaborn\n",
    "```"
   ]
  },
  {
   "cell_type": "markdown",
   "metadata": {},
   "source": [
    "### a) Importing a csv file [2 pts]"
   ]
  },
  {
   "cell_type": "markdown",
   "metadata": {},
   "source": [
    "Import the csv files of all subjects into one dataframe. Make sure that each row has a unique index. You might want to take a look at what ***pandas.concat*** does.<br>\n",
    "Extra fun: Display the output of the dataframe using the ***pandas.set_option*** function to display the data in a well-arranged way. Play a little bit around with the settings that you are allowed to change.<br>\n",
    "Save ```df_concatenated```.\n"
   ]
  },
  {
   "cell_type": "code",
   "execution_count": 11,
   "metadata": {},
   "outputs": [
    {
     "name": "stdout",
     "output_type": "stream",
     "text": [
      "     SubjectID  StimulusType  response   RT\n",
      "0            1             0         0    0\n",
      "1            1             1         1  506\n",
      "2            1             1         1  428\n",
      "3            1             1         1  318\n",
      "4            1             1         1  401\n",
      "5            1             1         1  366\n",
      "6            1             0         0    0\n",
      "7            1             0         0    0\n",
      "8            1             1         1  401\n",
      "9            1             1         0    0\n",
      "10           1             1         1  316\n",
      "11           1             1         1  333\n",
      "..         ...           ...       ...  ...\n",
      "788          8             1         1  253\n",
      "789          8             1         1  547\n",
      "790          8             0         0    0\n",
      "791          8             0         0    0\n",
      "792          8             1         0    0\n",
      "793          8             1         1  257\n",
      "794          8             1         1  742\n",
      "795          8             1         1  661\n",
      "796          8             1         1  203\n",
      "797          8             1         0    0\n",
      "798          8             1         1  276\n",
      "799          8             1         1  462\n",
      "\n",
      "[800 rows x 4 columns]\n",
      "path doesn't exist. trying to make\n"
     ]
    }
   ],
   "source": [
    "import glob\n",
    "import os\n",
    "\n",
    "PATH = os.getcwd()+ \"/Data\"\n",
    "all_files = glob.glob(os.path.join(PATH, \"*.csv\"))     # advisable to use os.path.join as this makes concatenation OS independent\n",
    "                                                       # http://www.oipapio.com/question-88634    \n",
    "df_concatenated = pd.concat([pd.read_csv(pre_concated_files, header=0) for pre_concated_files in all_files], ignore_index=True)\n",
    "\n",
    "pd.set_option(\"display.max_rows\", 25)\n",
    "print(df_concatenated)\n",
    "df_concatenated\n",
    "\n",
    "PROCESSED_DATA_DIRECTORY = os.getcwd() + '/Processed/' \n",
    "\n",
    "#create Processed named folder directory if not exist\n",
    "if not os.path.exists(PROCESSED_DATA_DIRECTORY):\n",
    "    os.makedirs(PROCESSED_DATA_DIRECTORY)\n",
    "    \n",
    "CONCATENATED_DATAPATH = PROCESSED_DATA_DIRECTORY + 'data_concatenated.csv'\n",
    "#save concatenated dataframe into CSV file with utf-8 encoding\n",
    "df_concatenated.to_csv(CONCATENATED_DATAPATH, encoding='utf-8')"
   ]
  },
  {
   "cell_type": "markdown",
   "metadata": {},
   "source": [
    "### b) Working with dataframes [2 pts]"
   ]
  },
  {
   "cell_type": "markdown",
   "metadata": {},
   "source": [
    "- Add a column called \"congruence\" to ```df_concatenated```. The column should have a value *True* if \"StimulusType\" and \"reponse\" matches. Otherwise the column should have a value *False*.\n",
    "\n",
    "- Create a new dataframe which has \"SubjectID\",\"StiumulusType\",\"RT\" and \"congruence\" as a column. For each combination of \"SubjectID\" and \"StimulusType\" (e.g. \"7001\" and \"0\") compute the average RT and congruence level.\n",
    "\n",
    "- When computing the average RT, omit all reaction times which are 0 as these will manipulate the mean.\n",
    "\n",
    "- Rename \"congruence\" as \"accuracy\" and save the dataframe as a csv file. "
   ]
  },
  {
   "cell_type": "code",
   "execution_count": null,
   "metadata": {
    "scrolled": false
   },
   "outputs": [],
   "source": [
    "# add a column \"congruence\"\n",
    "# TODO\n",
    "\n",
    "# create a new dataframe with averaged data\n",
    "df_concatenated_avg = # TODO\n",
    "\n",
    "# save averaged dataframe\n",
    "DATAPATH = os.getcwd() + '/Processed/data_concatenated_averaged.csv'\n",
    "# TODO\n",
    "\n"
   ]
  },
  {
   "cell_type": "markdown",
   "metadata": {},
   "source": [
    "## Assignment 2: Statistical plotting [6 pts]"
   ]
  },
  {
   "cell_type": "markdown",
   "metadata": {},
   "source": [
    "### a) Boxplot and Violinplot [2 pts]"
   ]
  },
  {
   "cell_type": "markdown",
   "metadata": {},
   "source": [
    "Plot the RT of each trial for all subjects as a stripplot and a boxplot on top of each other. Do the same with a striplot and a violinplot. Plot go trials as green dots and no-go trails as red dots. Reminder: don't forget to mask the data where RT=0. Make sure that the legends are informative (Don't display duplicated legends)."
   ]
  },
  {
   "cell_type": "code",
   "execution_count": null,
   "metadata": {
    "scrolled": false
   },
   "outputs": [],
   "source": [
    "# read data\n",
    "data_concat = pd.read_csv(os.getcwd() + \"/Processed/data_concatenated.csv\")\n",
    "\n",
    "# create two axes\n",
    "fig, axes = plt.subplots(nrows=1,ncols=2)\n",
    "\n",
    "# first subplot with stripplot and boxplot\n",
    "# TODO \n",
    "\n",
    "# second subplot with stripplot and violinplot\n",
    "# TODO\n",
    "\n",
    "# handling legends\n",
    "# TODO\n",
    "\n",
    "fig.tight_layout()"
   ]
  },
  {
   "cell_type": "markdown",
   "metadata": {},
   "source": [
    "### b) Violinplot combining all data of all groups [3 pts]"
   ]
  },
  {
   "cell_type": "markdown",
   "metadata": {},
   "source": [
    "- Make a dataframe consisting of all data across groups. You already did this in 1.a). At the end this dataframe you should have 8 * 11 * 100 rows.\n",
    "\n",
    "- Every group has used their ID convention. Make sure that every data point follows this SubjectID system: group number + \"00\" + subject number.  \n",
    "e.g) 3002 for the second subject of the third group.\n",
    "\n",
    "- Compute average RT and accuaracy for each subject in the big dataframe you just created. You already did this in 1.b). At the end this dataframe will have 8 * 11 rows.\n",
    "\n",
    "- On the first column plot average RT and accuracy for 8 subjects from your group's data. Use violinplot and split go/no-go conditions.\n",
    "\n",
    "- On the second column plot average RT and accuracy for 80 subjects from all data. Use violinplot and split go/no-go conditions.\n",
    "\n",
    "- Do you see any difference between the first column and the second column? What does this tell us about the central limit theorem (CLT) ?"
   ]
  },
  {
   "cell_type": "code",
   "execution_count": null,
   "metadata": {},
   "outputs": [],
   "source": [
    "# again create a concatenated dataframe over all (averaged) groups.\n",
    "# Don't forget to modify the Subject ID\n",
    "# TODO\n",
    "\n",
    "# Now it's time to plot your results\n",
    "figs, axes = plt.subplots(nrows=2, ncols=2, sharey=\"row\")\n",
    "\n",
    "# violin plot for your group's data\n",
    "# TODO\n",
    "\n",
    "# violin plot of all group's data\n",
    "# TODO\n"
   ]
  },
  {
   "cell_type": "markdown",
   "metadata": {},
   "source": [
    "Compare two datasets and relate it with CLT. Write your opinion here."
   ]
  },
  {
   "cell_type": "markdown",
   "metadata": {},
   "source": [
    "### c) Scatterplot [1 pts]"
   ]
  },
  {
   "cell_type": "markdown",
   "metadata": {},
   "source": [
    "Make a scatterplot comparing RT and accuracy. Do you see some correlation?"
   ]
  },
  {
   "cell_type": "code",
   "execution_count": null,
   "metadata": {},
   "outputs": [],
   "source": [
    "# TODO"
   ]
  }
 ],
 "metadata": {
  "kernelspec": {
   "display_name": "Python 3",
   "language": "python",
   "name": "python3"
  },
  "language_info": {
   "codemirror_mode": {
    "name": "ipython",
    "version": 3
   },
   "file_extension": ".py",
   "mimetype": "text/x-python",
   "name": "python",
   "nbconvert_exporter": "python",
   "pygments_lexer": "ipython3",
   "version": "3.7.0"
  }
 },
 "nbformat": 4,
 "nbformat_minor": 2
}
